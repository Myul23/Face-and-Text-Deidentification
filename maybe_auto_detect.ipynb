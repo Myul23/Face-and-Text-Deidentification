{
 "cells": [
  {
   "cell_type": "code",
   "execution_count": 1,
   "metadata": {},
   "outputs": [],
   "source": [
    "import os\n",
    "from time import sleep\n",
    "from shutil import move\n",
    "\n",
    "import numpy as np\n",
    "import cv2\n",
    "\n",
    "import matplotlib.pyplot as plt\n",
    "\n",
    "%matplotlib inline"
   ]
  },
  {
   "cell_type": "code",
   "execution_count": 2,
   "metadata": {},
   "outputs": [],
   "source": [
    "text_class_number = \"1\"\n",
    "data_path = \"making\"\n",
    "output_path = \"making_origin\""
   ]
  },
  {
   "cell_type": "markdown",
   "metadata": {},
   "source": [
    "### folder existence check"
   ]
  },
  {
   "cell_type": "code",
   "execution_count": 3,
   "metadata": {},
   "outputs": [
    {
     "name": "stdout",
     "output_type": "stream",
     "text": [
      "images folder exists\n",
      "annotations folder exists\n"
     ]
    }
   ],
   "source": [
    "images_folder = os.path.join(output_path, \"images\")\n",
    "texts_folder = os.path.join(output_path, \"annotations\")\n",
    "\n",
    "temp = os.listdir(output_path)\n",
    "if images_folder.rsplit(\"/\")[1] not in temp:\n",
    "    try:\n",
    "        os.mkdir(images_folder)\n",
    "        print(\"make images folder\")\n",
    "    except FileExistsError as error:\n",
    "        print(\"images folder exists\")\n",
    "if texts_folder.rsplit(\"/\")[1] not in temp:\n",
    "    try:\n",
    "        os.mkdir(texts_folder)\n",
    "        print(\"make annotations folder\")\n",
    "    except FileExistsError as error:\n",
    "        print(\"annotations folder exists\")"
   ]
  },
  {
   "cell_type": "markdown",
   "metadata": {},
   "source": [
    "### detection"
   ]
  },
  {
   "cell_type": "code",
   "execution_count": 7,
   "metadata": {},
   "outputs": [
    {
     "name": "stdout",
     "output_type": "stream",
     "text": [
      "COCO_train2014_000000379340.jpg / dilate / dilate / dilate / dilate / dilate / erode / dilate / 1 / finish\n"
     ]
    }
   ],
   "source": [
    "for folder_path in os.listdir(data_path):\n",
    "    if folder_path != \"train2014\":\n",
    "        continue\n",
    "\n",
    "    # print(folder_path)\n",
    "    folder_path = os.path.join(data_path, folder_path)\n",
    "    if os.path.isfile(folder_path):\n",
    "        continue\n",
    "\n",
    "    for img_address in os.listdir(folder_path):\n",
    "        print(img_address, end=\" / \")\n",
    "        img_total_address = os.path.join(folder_path, img_address)\n",
    "        if not os.path.isfile(img_total_address):\n",
    "            continue\n",
    "\n",
    "        output_image_path = os.path.join(images_folder, img_address)\n",
    "        output_text_path = os.path.join(texts_folder, img_address.rsplit(\".\", 1)[0] + \".txt\")\n",
    "        img = cv2.imread(img_total_address)\n",
    "        cv2.imshow(\"origin\", img)\n",
    "\n",
    "        img_black = cv2.cvtColor(img, cv2.COLOR_BGR2GRAY)\n",
    "        # check with threshold function\n",
    "        # cv2.imshow(\"adaptive threshold\", cv2.adaptiveThreshold(img_black, 255, cv2.ADAPTIVE_THRESH_GAUSSIAN_C, cv2.THRESH_BINARY, 15, 2))\n",
    "        # cv2.imshow(\"Otsu's threshold\", cv2.threshold(img_black, 0, 255, cv2.THRESH_BINARY | cv2.THRESH_OTSU)[1])\n",
    "        # cv2.waitKey(0)\n",
    "\n",
    "        # ? Canny's Edge Detection\n",
    "        window_name = \"Canny Edge Detection Visualization\"\n",
    "        cv2.namedWindow(window_name)\n",
    "        # callback function overwritting\n",
    "        def onChange(x):\n",
    "            pass\n",
    "        cv2.createTrackbar(\"low value\", window_name, 0, 255, onChange)\n",
    "        cv2.createTrackbar(\"high value\", window_name, 0, 255, onChange)\n",
    "        cv2.imshow(window_name, img_black)\n",
    "\n",
    "        # * edge detection tracking\n",
    "        # first recommend (100, 150)\n",
    "        image = None\n",
    "        while cv2.waitKey(300) != ord(\"c\"):\n",
    "            low = cv2.getTrackbarPos(\"low value\", window_name)\n",
    "            high = cv2.getTrackbarPos(\"high value\", window_name)\n",
    "            image = cv2.Canny(img_black, low, high)\n",
    "            cv2.imshow(window_name, image)\n",
    "            # low < high여야 하지만, function이 알아서 swap\n",
    "        if image is None:\n",
    "            print(\"wrong\")\n",
    "            exit(-1)\n",
    "        cv2.destroyWindow(window_name)\n",
    "\n",
    "\n",
    "        # ? erode & dilate loop\n",
    "        images = []\n",
    "        k = cv2.getStructuringElement(cv2.MORPH_CROSS, (3, 3)) # cv2.MORPH_EPLIPSE, cv2.MORPH_RECT\n",
    "        images.append(cv2.erode(cv2.dilate(image, k), k))\n",
    "\n",
    "        window_name = \"find proper binary image\"\n",
    "        cv2.imshow(window_name, images[-1])\n",
    "        key = cv2.waitKey(0)\n",
    "\n",
    "        while key != ord(\"c\"):\n",
    "            # 침식, 영역 줄이기\n",
    "            if key == ord(\"a\"):\n",
    "                print(\"erode\", end=\" / \")\n",
    "                images.append(cv2.erode(images[-1], k))\n",
    "            # 팽창, 영역 넗히기\n",
    "            elif key == ord(\"d\"):\n",
    "                print(\"dilate\", end=\" / \")\n",
    "                images.append(cv2.dilate(images[-1], k))\n",
    "            # 혹시나 binary를 뒤집고 싶을 때\n",
    "            elif key == ord(\"r\"):\n",
    "                print(\"reverse\", end=\" / \")\n",
    "                images.append(cv2.bitwise_not(images[-1]))\n",
    "            # ctrl + z\n",
    "            elif key == ord(\"z\") and len(images) > 1:\n",
    "                print(\"before\", end=\" / \")\n",
    "                images.pop()\n",
    "            else:\n",
    "                key = cv2.waitKey(0)\n",
    "                continue\n",
    "\n",
    "            cv2.imshow(window_name, images[-1])\n",
    "            key = cv2.waitKey(0)\n",
    "\n",
    "\n",
    "        # ? contouring & select bounding box\n",
    "        # parameter explanation : https://076923.github.io/posts/Python-opencv-21/\n",
    "\n",
    "        text = \"\"\n",
    "        points = list(cv2.findContours(images[-1], cv2.RETR_LIST, cv2.CHAIN_APPROX_NONE)[0])\n",
    "        index = 0\n",
    "        while index < len(points):\n",
    "            if cv2.contourArea(points[index]) < 150:\n",
    "                points.pop(index)\n",
    "            else:\n",
    "                index += 1\n",
    "\n",
    "        index = 0\n",
    "        while index < len(points):\n",
    "            x, y, w, h = cv2.boundingRect(points[index])\n",
    "\n",
    "            origin = img.copy()\n",
    "            cv2.rectangle(origin, (x, y), (x + w, y + h), (200, 200, 200), 2)\n",
    "            cv2.imshow(\"origin\", origin)\n",
    "\n",
    "            key = cv2.waitKey(0)\n",
    "            if key == ord(\"z\"):\n",
    "                if index > 0:\n",
    "                    index -= 1\n",
    "                continue\n",
    "            elif key == ord(\"c\"):\n",
    "                text = \" \".join([text, text_class_number, str(x / img.shape[0]), str(y / img.shape[1]), str(w), str(h)]) + \"\\n\"\n",
    "            index += 1\n",
    "        # print(text)\n",
    "\n",
    "        if len(text) > 0:\n",
    "            print(len(text.split(\"\\n\")) - 1, end=\" / \")\n",
    "            move(img_total_address, output_image_path)\n",
    "            with open(output_text_path, \"w\") as f:\n",
    "                f.write(text)\n",
    "        print(\"finish\")\n",
    "\n",
    "cv2.destroyAllWindows()"
   ]
  }
 ],
 "metadata": {
  "interpreter": {
   "hash": "ad2bdc8ecc057115af97d19610ffacc2b4e99fae6737bb82f5d7fb13d2f2c186"
  },
  "kernelspec": {
   "display_name": "Python 3.9.7 ('base')",
   "language": "python",
   "name": "python3"
  },
  "language_info": {
   "codemirror_mode": {
    "name": "ipython",
    "version": 3
   },
   "file_extension": ".py",
   "mimetype": "text/x-python",
   "name": "python",
   "nbconvert_exporter": "python",
   "pygments_lexer": "ipython3",
   "version": "3.9.7"
  },
  "orig_nbformat": 4
 },
 "nbformat": 4,
 "nbformat_minor": 2
}
