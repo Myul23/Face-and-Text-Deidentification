{
 "cells": [
  {
   "cell_type": "code",
   "execution_count": 15,
   "metadata": {},
   "outputs": [],
   "source": [
    "import os\n",
    "from shutil import move\n",
    "\n",
    "import json\n",
    "import cv2\n",
    "# from pycocotools.coco import COCO\n",
    "\n",
    "import matplotlib.pyplot as plt\n",
    "\n",
    "%matplotlib inline"
   ]
  },
  {
   "cell_type": "code",
   "execution_count": 33,
   "metadata": {},
   "outputs": [
    {
     "name": "stdout",
     "output_type": "stream",
     "text": [
      "make images folder\n",
      "make images folder\n",
      "Output folder's address check\n"
     ]
    }
   ],
   "source": [
    "images_input = \"train2014\"\n",
    "images_output = \"extract\"\n",
    "\n",
    "if not os.path.exists(images_input):\n",
    "    print(f\"No folder where address is '{images_input}'\")\n",
    "    exit(0)\n",
    "\n",
    "try:\n",
    "    os.mkdir(os.path.join(images_output, \"images\"))\n",
    "    print(\"make images folder\")\n",
    "except FileExistsError as error:\n",
    "    print(\"images folder exists\")\n",
    "try:\n",
    "    os.mkdir(os.path.join(images_output, \"annotations\"))\n",
    "    print(\"make images folder\")\n",
    "except FileExistsError as error:\n",
    "    print(\"images folder exists\")\n",
    "print(\"Output folder's address check\")"
   ]
  },
  {
   "cell_type": "code",
   "execution_count": 34,
   "metadata": {},
   "outputs": [],
   "source": [
    "annFile = \"COCO_Text/COCO_Text.json\"\n",
    "# annFile = \"cocotext.v2/cocotext.v2.json\"\n",
    "# coco = COCO(annFile)\n",
    "\n",
    "# coco.loadCats(coco.getCatIds())\n",
    "# imgIds = coco.getImgIds(imgIds=[378466])\n",
    "# img = coco.loadImgs(imgIds[0])[0]\n",
    "# print(img[\"coco_url\"])"
   ]
  },
  {
   "cell_type": "code",
   "execution_count": 30,
   "metadata": {},
   "outputs": [
    {
     "name": "stdout",
     "output_type": "stream",
     "text": [
      "dict_keys(['imgs', 'imgToAnns', 'cats', 'anns', 'info'])\n"
     ]
    }
   ],
   "source": [
    "with open(annFile, \"r\") as f:\n",
    "    data = json.load(f)\n",
    "print(data.keys())"
   ]
  },
  {
   "cell_type": "code",
   "execution_count": 31,
   "metadata": {},
   "outputs": [
    {
     "data": {
      "text/plain": [
       "{'width': 612,\n",
       " 'file_name': 'COCO_train2014_000000378466.jpg',\n",
       " 'set': 'train',\n",
       " 'id': 378466,\n",
       " 'height': 612}"
      ]
     },
     "execution_count": 31,
     "metadata": {},
     "output_type": "execute_result"
    }
   ],
   "source": [
    "data[\"imgs\"][list(data[\"imgs\"].keys())[0]]"
   ]
  },
  {
   "cell_type": "code",
   "execution_count": 41,
   "metadata": {},
   "outputs": [],
   "source": [
    "total = list(data[\"anns\"].keys())\n",
    "for present in range(len(total)):\n",
    "    for idx in range(present + 1, len(total)):\n",
    "        if total[present] == total[idx]:\n",
    "            print(present)"
   ]
  },
  {
   "cell_type": "code",
   "execution_count": null,
   "metadata": {},
   "outputs": [],
   "source": [
    "images_lists = os.listdir(images_input)\n",
    "for information in data[\"anns\"]:\n",
    "    img_id = str(data[\"anns\"][information][\"image_id\"])\n",
    "    # print(data[\"imgs\"][img_id]) # data[\"anns\"][information], img_id\n",
    "    if img_id not in data[\"imgs\"].keys():\n",
    "        print(img_id)\n",
    "        continue\n",
    "\n",
    "    bbox = data[\"anns\"][information][\"bbox\"]\n",
    "    text = \" \".join([\"1\", str(bbox[0] / data[\"imgs\"][img_id][\"width\"]), str(bbox[1] / data[\"imgs\"][img_id][\"height\"]), str(bbox[2] / data[\"imgs\"][img_id][\"width\"]), str(bbox[3] / data[\"imgs\"][img_id][\"height\"])])\n",
    "    # print(bbox)\n",
    "\n",
    "    img_name = data[\"imgs\"][img_id][\"file_name\"]\n",
    "    address = os.path.join(images_input, img_name)\n",
    "    # img = cv2.imread(address)\n",
    "    # img = cv2.rectangle(img, (int(bbox[0]), int(bbox[1])), (int(bbox[0] + bbox[2]), int(bbox[1] + bbox[3])), (0, 0, 255), 3)\n",
    "    # cv2.imshow(\"origin\", img)\n",
    "    # cv2.waitKey(0)\n",
    "    # cv2.destroyAllWindows()\n",
    "\n",
    "    output_image_path = os.path.join(os.path.join(images_output, \"images\"), img_name)\n",
    "    output_text_path = os.path.join(os.path.join(images_output, \"annotations\"), img_name.rsplit(\".\", 1)[0] + \".txt\")\n",
    "\n",
    "    try:\n",
    "        move(address, output_image_path)\n",
    "        with open(output_text_path, \"w\") as f:\n",
    "            f.write(text)\n",
    "    except FileNotFoundError as error:\n",
    "        print(\"don't move images file on\")\n",
    "print(\"finish\")"
   ]
  }
 ],
 "metadata": {
  "interpreter": {
   "hash": "ad2bdc8ecc057115af97d19610ffacc2b4e99fae6737bb82f5d7fb13d2f2c186"
  },
  "kernelspec": {
   "display_name": "Python 3.9.7 ('base')",
   "language": "python",
   "name": "python3"
  },
  "language_info": {
   "codemirror_mode": {
    "name": "ipython",
    "version": 3
   },
   "file_extension": ".py",
   "mimetype": "text/x-python",
   "name": "python",
   "nbconvert_exporter": "python",
   "pygments_lexer": "ipython3",
   "version": "3.9.7"
  },
  "orig_nbformat": 4
 },
 "nbformat": 4,
 "nbformat_minor": 2
}
