{
 "cells": [
  {
   "cell_type": "code",
   "execution_count": 1,
   "metadata": {},
   "outputs": [],
   "source": [
    "import os"
   ]
  },
  {
   "cell_type": "code",
   "execution_count": 2,
   "metadata": {},
   "outputs": [],
   "source": [
    "class_number = \"0\"\n",
    "origin_images_path = \"valid\"\n",
    "origin_texts_path = \"texts\"\n",
    "\n",
    "assert os.path.exists(origin_images_path) and os.path.exists(origin_texts_path)\n",
    "\n",
    "texts_output = \"labels\"\n",
    "if not os.path.exists(texts_output):\n",
    "    os.mkdir(texts_output)"
   ]
  },
  {
   "cell_type": "code",
   "execution_count": 3,
   "metadata": {},
   "outputs": [],
   "source": [
    "for text_file in os.listdir(origin_texts_path):\n",
    "    # image_path = os.path.join(origin_images_path, text_file.rsplit(\".\", 1)[0] + \".jpg\")\n",
    "    text_path = os.path.join(origin_texts_path, text_file)\n",
    "    if not os.path.isfile(text_path):\n",
    "        continue\n",
    "\n",
    "    # image = Image.open(image_path)\n",
    "    with open(text_path, \"r\", encoding=\"UTF-8\") as f:\n",
    "        lines = f.readlines()\n",
    "\n",
    "    text = \"\"\n",
    "    for line in lines:\n",
    "        if len(line.rsplit(\"\\n\", 1)[0].split(\" \")) < 2:\n",
    "            continue\n",
    "        parts = list(map(float, line.rsplit(\"\\n\", 1)[0].split(\" \")))\n",
    "        if int(parts[0]) > 0:\n",
    "            parts[0] = 0\n",
    "        parts[1] += 0.5 * parts[3]\n",
    "        parts[2] += 0.5 * parts[4]\n",
    "        if parts[3] < 0:\n",
    "            parts[3] *= -1\n",
    "        if parts[4] < 0:\n",
    "            parts[4] *= -1\n",
    "        parts = list(map(str, parts))\n",
    "        text += \" \".join(parts) + \"\\n\"\n",
    "\n",
    "    text_path = os.path.join(texts_output, text_file)\n",
    "    with open(text_path, \"w\") as f:\n",
    "        f.write(text)"
   ]
  },
  {
   "cell_type": "markdown",
   "metadata": {},
   "source": [
    "### 확인"
   ]
  },
  {
   "cell_type": "code",
   "execution_count": 4,
   "metadata": {},
   "outputs": [],
   "source": [
    "import os\n",
    "import cv2"
   ]
  },
  {
   "cell_type": "code",
   "execution_count": 8,
   "metadata": {},
   "outputs": [],
   "source": [
    "target_img = \"C.jpg\"\n",
    "texts_path = \"texts\"\n",
    "images_path = \"valid\""
   ]
  },
  {
   "cell_type": "code",
   "execution_count": 9,
   "metadata": {},
   "outputs": [],
   "source": [
    "target_text = -1\n",
    "for text_file in os.listdir(texts_path):\n",
    "    if target_img.rsplit(\".\")[0] == text_file.rsplit(\".\")[0]:\n",
    "        target_text = text_file\n",
    "        break"
   ]
  },
  {
   "cell_type": "code",
   "execution_count": 10,
   "metadata": {},
   "outputs": [],
   "source": [
    "text_path = os.path.join(texts_path, target_text)\n",
    "\n",
    "image = cv2.imread(os.path.join(images_path, target_img))\n",
    "\n",
    "with open(text_path) as f:\n",
    "    lines = f.readlines()\n",
    "for line in lines:\n",
    "    _, cx, cy, w, h = list(map(float, line.split(\"\\n\")[0].split(\" \")))\n",
    "    cx, cy, w, h = cx * image.shape[1], cy * image.shape[0], w * image.shape[1], h * image.shape[0]\n",
    "    sx, fx, sy, fy = list(map(int, [cx - w / 2, cx + w / 2, cy - h / 2, cy + h / 2]))\n",
    "    image = cv2.rectangle(image, (sx, sy), (fx, fy), (255, 0, 0), 3)\n",
    "image = cv2.resize(image, (500, 500))\n",
    "\n",
    "cv2.imshow(\"check\", image)\n",
    "cv2.waitKey()\n",
    "cv2.destroyAllWindows()"
   ]
  }
 ],
 "metadata": {
  "interpreter": {
   "hash": "f024e45e3aed52a53948853aa7b985e1acbe9a3f4516f10ffa47382c29dbf4df"
  },
  "kernelspec": {
   "display_name": "Python 3.9.12 ('yolo_env')",
   "language": "python",
   "name": "python3"
  },
  "language_info": {
   "codemirror_mode": {
    "name": "ipython",
    "version": 3
   },
   "file_extension": ".py",
   "mimetype": "text/x-python",
   "name": "python",
   "nbconvert_exporter": "python",
   "pygments_lexer": "ipython3",
   "version": "3.9.12"
  },
  "orig_nbformat": 4
 },
 "nbformat": 4,
 "nbformat_minor": 2
}
