{
 "cells": [
  {
   "cell_type": "code",
   "execution_count": 1,
   "metadata": {},
   "outputs": [],
   "source": [
    "import os\n",
    "from shutil import move"
   ]
  },
  {
   "cell_type": "code",
   "execution_count": 2,
   "metadata": {},
   "outputs": [],
   "source": [
    "address = \"data\"\n",
    "text = \"texts\"\n",
    "output = \"valid\"\n",
    "\n",
    "assert os.path.exists(address) and os.path.exists(text)\n",
    "if not os.path.exists(output):\n",
    "    os.mkdir(output)\n",
    "\n",
    "other = \"non_valid\"\n",
    "if not os.path.exists(other):\n",
    "    os.mkdir(other)"
   ]
  },
  {
   "cell_type": "code",
   "execution_count": 17,
   "metadata": {},
   "outputs": [],
   "source": [
    "for idx, text_file in enumerate(os.listdir(text)):\n",
    "    # print(text_file.split(\"-\")[0], text_file.rsplit(\".\", 1)[0].split(\"-\", 1)[1])\n",
    "    image_folder = os.path.join(address, text_file.split(\"-\")[0])\n",
    "    try:\n",
    "        for image_file in os.listdir(image_folder):\n",
    "            if text_file.rsplit(\".\", 1)[0].split(\"-\", 1)[1] == image_file.rsplit(\".\", 1)[0]:\n",
    "                input_path = os.path.join(image_folder, image_file)\n",
    "                output_path = os.path.join(output, text_file.split(\"-\")[0] + \"-\" + image_file)\n",
    "\n",
    "                # print(input_path, output_path)\n",
    "                move(input_path, output_path)\n",
    "                break\n",
    "    except FileNotFoundError as error:\n",
    "        pass"
   ]
  }
 ],
 "metadata": {
  "interpreter": {
   "hash": "ad2bdc8ecc057115af97d19610ffacc2b4e99fae6737bb82f5d7fb13d2f2c186"
  },
  "kernelspec": {
   "display_name": "Python 3.9.7 ('base')",
   "language": "python",
   "name": "python3"
  },
  "language_info": {
   "codemirror_mode": {
    "name": "ipython",
    "version": 3
   },
   "file_extension": ".py",
   "mimetype": "text/x-python",
   "name": "python",
   "nbconvert_exporter": "python",
   "pygments_lexer": "ipython3",
   "version": "3.9.7"
  },
  "orig_nbformat": 4
 },
 "nbformat": 4,
 "nbformat_minor": 2
}
